{
 "cells": [
  {
   "cell_type": "markdown",
   "metadata": {},
   "source": [
    "# Configuración del Proyecto\n",
    "\n",
    "Este notebook contiene las instrucciones para descargar y configurar el proyecto desde GitHub en VS Code.\n",
    "\n",
    "---"
   ]
  },
  {
   "cell_type": "markdown",
   "metadata": {},
   "source": [
    "## 📋 Prerrequisitos\n",
    "\n",
    "Antes de comenzar, asegúrate de tener instalado:\n",
    "\n",
    "- [ ] **Python 3.8+** (verificar con `python --version`)\n",
    "- [ ] **Git** (verificar con `git --version`)\n",
    "- [ ] **Visual Studio Code**\n",
    "- [ ] **Cuenta de GitHub**\n",
    "- [ ] **API Key de OpenAI** (desde https://platform.openai.com/api-keys)\n"
   ]
  },
  {
   "cell_type": "markdown",
   "metadata": {},
   "source": [
    "---\n",
    "\n",
    "## 🔽 Paso 1: Clonar el Repositorio desde GitHub\n",
    "\n",
    "### Opción A: Usando VS Code directamente\n",
    "\n",
    "1. **Abrir VS Code**\n",
    "2. **Ctrl+Shift+P** → Buscar \"Git: Clone\"\n",
    "3. **Pegar la URL del repositorio**: `https://github.com/vargasenrique/2025_06-GEN-AI-APIS.git`\n",
    "4. **Seleccionar carpeta** donde quieres clonar el proyecto\n",
    "5. **Abrir el proyecto** cuando VS Code lo sugiera\n",
    "\n",
    "### Opción B: Usando terminal\n",
    "\n",
    "```bash\n",
    "# Navegar a la carpeta donde quieres el proyecto\n",
    "cd C:/Users/TuUsuario/Documents/Proyectos  # Windows\n",
    "# o\n",
    "cd ~/Documents/Proyectos  # macOS/Linux\n",
    "\n",
    "# Clonar el repositorio\n",
    "git clone https://github.com/vargasenrique/2025_06-GEN-AI-APIS.git\n",
    "\n",
    "# Entrar al directorio del proyecto\n",
    "cd tu-repositorio\n",
    "\n",
    "# Abrir en VS Code\n",
    "code .\n",
    "```"
   ]
  },
  {
   "cell_type": "markdown",
   "metadata": {},
   "source": [
    "---\n",
    "\n",
    "## 🐍 Paso 2: Crear y Activar el Entorno Virtual\n",
    "\n",
    "### En la terminal de VS Code (Terminal > New Terminal):"
   ]
  },
  {
   "cell_type": "code",
   "execution_count": null,
   "metadata": {},
   "outputs": [],
   "source": [
    "# Crear el entorno virtual\n",
    "!python -m venv venv"
   ]
  },
  {
   "cell_type": "markdown",
   "metadata": {},
   "source": [
    "### Activar el entorno virtual:\n",
    "\n",
    "**⚠️ IMPORTANTE**: Estos comandos se ejecutan en la terminal, NO en el notebook\n",
    "\n",
    "```bash\n",
    "# Windows (Command Prompt)\n",
    "venv\\Scripts\\activate\n",
    "\n",
    "# Windows (PowerShell)\n",
    "venv\\Scripts\\Activate.ps1\n",
    "\n",
    "# macOS/Linux\n",
    "source venv/bin/activate\n",
    "```\n",
    "\n",
    "**✅ Confirmación**: Deberías ver `(venv)` al inicio de tu línea de comandos\n",
    "\n"
   ]
  },
  {
   "cell_type": "markdown",
   "metadata": {},
   "source": [
    "---\n",
    "\n",
    "## 📦 Paso 3: Instalar Dependencias\n",
    "\n",
    "Con el entorno virtual activado:"
   ]
  },
  {
   "cell_type": "code",
   "execution_count": null,
   "metadata": {},
   "outputs": [],
   "source": [
    "# Instalar desde requirements.txt (si existe)\n",
    "!pip install -r requirements.txt\n",
    "\n",
    "# O instalar manualmente las dependencias principales\n",
    "!pip install openai python-dotenv jupyter"
   ]
  },
  {
   "cell_type": "markdown",
   "metadata": {},
   "source": [
    "### Verificar instalación:"
   ]
  },
  {
   "cell_type": "code",
   "execution_count": null,
   "metadata": {},
   "outputs": [],
   "source": [
    "!pip list | findstr \"openai\\|python-dotenv\"  # Windows\n",
    "# o\n",
    "!pip list | grep -E \"openai|python-dotenv\"   # macOS/Linux"
   ]
  },
  {
   "cell_type": "markdown",
   "metadata": {},
   "source": [
    "---\n",
    "\n",
    "## 🔐 Paso 4: Configurar Variables de Entorno\n",
    "\n",
    "### Crear archivo .env\n",
    "\n",
    "1. **En VS Code**: Clic derecho en el explorador → \"New File\"\n",
    "2. **Nombrar el archivo**: `.env`\n",
    "3. **Agregar tu API Key**:\n",
    "\n",
    "```env\n",
    "OPENAI_API_KEY=sk-tu-api-key-aqui\n",
    "OPENAI_ORG_ID=org-tu-organizacion-aqui  # Opcional\n",
    "```\n",
    "\n",
    "### ⚠️ IMPORTANTE: Seguridad\n",
    "\n",
    "- **NUNCA** subas el archivo `.env` a GitHub\n",
    "- Verifica que `.env` esté en tu archivo `.gitignore`\n",
    "- Tu API Key debe mantenerse privada"
   ]
  },
  {
   "cell_type": "markdown",
   "metadata": {},
   "source": [
    "---\n",
    "\n",
    "## 🔧 Paso 5: Configurar VS Code\n",
    "\n",
    "### Seleccionar el intérprete de Python:\n",
    "\n",
    "1. **Ctrl+Shift+P** → \"Python: Select Interpreter\"\n",
    "2. **Seleccionar**: `./venv/Scripts/python.exe` (Windows) o `./venv/bin/python` (macOS/Linux)\n",
    "\n"
   ]
  },
  {
   "cell_type": "markdown",
   "metadata": {},
   "source": [
    "---\n",
    "\n",
    "## Paso 6: Ejecutar tu Proyecto\n",
    "\n",
    "### Ejecutar scripts Python:\n",
    "\n",
    "```bash\n",
    "# Asegúrate de que el entorno virtual esté activado\n",
    "python main.py\n",
    "# o\n",
    "python tu_script.py\n",
    "```\n",
    "\n"
   ]
  },
  {
   "cell_type": "markdown",
   "metadata": {},
   "source": [
    "---\n",
    "\n",
    "## 🔄 Comandos Git Útiles\n",
    "\n",
    "### Mantener tu código actualizado:"
   ]
  },
  {
   "cell_type": "code",
   "execution_count": null,
   "metadata": {},
   "outputs": [],
   "source": [
    "# Ver el estado de los archivos\n",
    "!git status\n",
    "\n",
    "# Descargar cambios del repositorio remoto\n",
    "!git pull origin main\n",
    "\n",
    "# Agregar cambios\n",
    "!git add .\n",
    "\n",
    "# Hacer commit\n",
    "!git commit -m \"Descripción de los cambios\"\n",
    "\n",
    "# Subir cambios\n",
    "!git push origin main"
   ]
  },
  {
   "cell_type": "markdown",
   "metadata": {},
   "source": [
    "---\n",
    "\n",
    "## ✅ Checklist Final\n",
    "\n",
    "Antes de comenzar a trabajar, verifica que:\n",
    "\n",
    "- [ ] El repositorio está clonado localmente\n",
    "- [ ] El entorno virtual está creado y activado\n",
    "- [ ] Las dependencias están instaladas\n",
    "- [ ] El archivo `.env` está configurado con tu API Key\n",
    "- [ ] VS Code tiene el intérprete de Python correcto seleccionado\n",
    "- [ ] Las extensiones recomendadas están instaladas\n",
    "\n",
    "---\n",
    "\n"
   ]
  }
 ],
 "metadata": {
  "kernelspec": {
   "display_name": "Python 3",
   "language": "python",
   "name": "python3"
  },
  "language_info": {
   "codemirror_mode": {
    "name": "ipython",
    "version": 3
   },
   "file_extension": ".py",
   "mimetype": "text/x-python",
   "name": "python",
   "nbconvert_exporter": "python",
   "pygments_lexer": "ipython3",
   "version": "3.8.0"
  }
 },
 "nbformat": 4,
 "nbformat_minor": 4
}
